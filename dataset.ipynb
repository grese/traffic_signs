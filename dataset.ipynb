{
 "cells": [
  {
   "cell_type": "code",
   "execution_count": null,
   "metadata": {},
   "outputs": [],
   "source": [
    "import pickle\n",
    "import pandas as pd\n",
    "import numpy as np\n",
    "import matplotlib.pyplot as plt\n",
    "from skimage import io, exposure, transform\n",
    "from tensorflow.keras.utils import to_categorical\n",
    "\n",
    "def read_image(imgpath, size=(32, 32)):\n",
    "    image = io.imread(imgpath)\n",
    "    image = process_image(image, size)\n",
    "    return image\n",
    "\n",
    "def process_image(image, size, clahe=True):\n",
    "    image = transform.resize(image, size)\n",
    "    if clahe:\n",
    "        image = exposure.equalize_adapthist(image, clip_limit=0.1)\n",
    "    return image\n",
    "\n",
    "def load_signs(dataset_dir):\n",
    "    signs = pd.read_csv(os.path.join(dataset_dir, 'Signs.csv'))\n",
    "    return {r[0]:r[1] for r in signs.values}\n",
    "\n",
    "def load_and_split(csv_path, shuffle=True, frac=1):\n",
    "    data_path, _ = os.path.split(csv_path)\n",
    "    df = pd.read_csv(csv_path)\n",
    "    if shuffle:\n",
    "        df = df.sample(frac=frac)\n",
    "    data = [read_image(os.path.join(data_path, f)) for f in df['Path']]\n",
    "    labels = [int(c) for c in df['ClassId']]\n",
    "    return np.array(data), np.array(labels)\n",
    "\n",
    "def pickle_dataset(X_train, y_train, X_test, y_test, signs,  out_dir='./data'):\n",
    "    objects = {'X_train': X_train, 'y_train': y_train, 'X_test': X_test, 'y_test': y_test, 'signs': signs}\n",
    "    for name, obj in objects.items():\n",
    "        pkl_path = os.path.join(out_dir, f'{name}.pkl')\n",
    "        pickle.dump(obj, open(pkl_path, 'wb'))\n",
    "        print(f'saved {name} to {pkl_path}')\n",
    "\n",
    "def normalize(X):\n",
    "    return X.astype('float32') / 255.0\n",
    "\n",
    "dataset_dir = './data/gtsrb'\n",
    "signs = load_signs(dataset_dir)\n",
    "X_train, y_train = load_and_split(os.path.join(dataset_dir, 'Train.csv'))\n",
    "X_test, y_test = load_and_split(os.path.join(dataset_dir, 'Test.csv'))\n",
    "\n",
    "X_train = normalize(X_train)\n",
    "X_test = normalize(X_test)\n",
    "\n",
    "n_labels = len(np.unique(y_train))\n",
    "y_train = to_categorical(y_train, n_labels)\n",
    "y_test = to_categorical(y_test, n_labels)\n",
    "\n",
    "pickle_dataset(X_train, y_train, X_test, y_test, signs)"
   ]
  }
 ],
 "metadata": {
  "language_info": {
   "codemirror_mode": {
    "name": "ipython",
    "version": 3
   },
   "file_extension": ".py",
   "mimetype": "text/x-python",
   "name": "python",
   "nbconvert_exporter": "python",
   "pygments_lexer": "ipython3",
   "version": "3.7.7-final"
  },
  "orig_nbformat": 2,
  "kernelspec": {
   "name": "python37764bitvenvvenvcffccfe3e31a490fb7fcc9d2d51de7a1",
   "display_name": "Python 3.7.7 64-bit ('venv': venv)"
  }
 },
 "nbformat": 4,
 "nbformat_minor": 2
}